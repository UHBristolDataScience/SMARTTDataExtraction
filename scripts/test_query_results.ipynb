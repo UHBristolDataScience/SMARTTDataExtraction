{
 "cells": [
  {
   "cell_type": "markdown",
   "metadata": {},
   "source": [
    "### Test Query Results\n",
    "\n",
    "In this notebook we test the quesry results that were produced previoulsy using the `test_connection.py` script.\n",
    "\n",
    "Run the two cells below. If you see a table output with columns: \"interventionId\", \"shortLabel\", \"longLabel\", ...\n",
    "then everyhing is working correclty. You can proceed to the notebook [XX]().\n",
    "\n",
    "If you receive an error meesage, please copy and paste it in an email to chris.mcwilliams@bristol.ac.uk"
   ]
  },
  {
   "cell_type": "code",
   "execution_count": 1,
   "metadata": {},
   "outputs": [],
   "source": [
    "import pandas as pd"
   ]
  },
  {
   "cell_type": "code",
   "execution_count": null,
   "metadata": {},
   "outputs": [],
   "source": [
    "pd.read_csv('../data/test_query_results.tsv', sep='\\t')"
   ]
  }
 ],
 "metadata": {
  "kernelspec": {
   "display_name": "venv",
   "language": "python",
   "name": "venv"
  },
  "language_info": {
   "codemirror_mode": {
    "name": "ipython",
    "version": 3
   },
   "file_extension": ".py",
   "mimetype": "text/x-python",
   "name": "python",
   "nbconvert_exporter": "python",
   "pygments_lexer": "ipython3",
   "version": "3.8.0"
  }
 },
 "nbformat": 4,
 "nbformat_minor": 2
}
